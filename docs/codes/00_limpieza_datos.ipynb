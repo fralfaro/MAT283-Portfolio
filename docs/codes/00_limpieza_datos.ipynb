{
 "cells": [
  {
   "cell_type": "code",
   "execution_count": 1,
   "id": "71145f36",
   "metadata": {},
   "outputs": [],
   "source": [
    "# Librerias\n",
    "\n",
    "import numpy as np\n",
    "import pandas as pd\n",
    "import seaborn as sns\n",
    "import matplotlib.pyplot as plt\n",
    "\n",
    "from loguru import logger\n",
    "\n",
    "import warnings\n",
    "warnings.simplefilter(\"ignore\")\n",
    "\n",
    "%matplotlib inline"
   ]
  },
  {
   "cell_type": "markdown",
   "id": "d12ffef8",
   "metadata": {},
   "source": [
    "**estado_alumno_2010_2017_previo**"
   ]
  },
  {
   "cell_type": "code",
   "execution_count": 2,
   "id": "10675072",
   "metadata": {},
   "outputs": [
    {
     "name": "stderr",
     "output_type": "stream",
     "text": [
      "2024-03-27 21:03:49.089 | INFO     | __main__:<module>:36 - definir rutas de trabajos\n",
      "2024-03-27 21:03:49.092 | INFO     | __main__:<module>:40 - leer datos\n"
     ]
    }
   ],
   "source": [
    "dct_cols = {\n",
    "    'RUT':'rut',\n",
    "    'Estado a 1sem 2018':'estado',\n",
    "    'Prueba de Comprensión Lectora':'prueba_comprension_lectora',\n",
    "    'Prueba diag. Matemática':'prueba_matematica',\n",
    "    'Test de Autoestima Académica':'test_autoestima_academica',\n",
    "    'Test de Autoestima General':'test_autoestima_general',\n",
    "    'Test de Estudio metódico':'test_estudio_medico',\n",
    "    'Test de Lawson':'test_lawson',\n",
    "    'Nombre':'nombre',\n",
    "    'Cohorte de Ingreso':'ingreso',\n",
    "    'NEM':'nem',\n",
    "    'Puntaje de Ingreso':'puntaje_ingreso',\n",
    "    'Puntaje PSU': 'puntaje_psu',\n",
    "    'Preferencia Postulación':'preferencia',\n",
    "    'Puntaje PSU MAT':'psu_matematica',\n",
    "    'Puntaje PSU LENG':'psu_lenguaje',\n",
    "    'Nombre Región':'region',\n",
    "    'Tipo Colegio':'tipo_colegio',\n",
    "    'Año Egreso EM':'egreso',\n",
    "    'BECA BICENTENARIO':'beca_bicentenario',\n",
    "    'BECA DAMNIFICADOS':'beca_damnificados',\n",
    "    'BECA EXCELENCIA ACADEMICA':'beca_excelencia_academica',\n",
    "    'BECA INFORME VALECH':'beca_informe_valech',\n",
    "    'BECA ISABEL CACES DE BROWN':'beca_isabel_caces_de_brown',\n",
    "    'BECA JUAN GOMEZ MILLAS':'beca_juan_gomez_millas',\n",
    "    'BECA PUCV':'beca_pucv',\n",
    "    'BENEFICIO GRATUIDAD':'beneficio_gratuidad',\n",
    "    'CREDITO CON GARANTIA ESTATAL':'credito_con_garantia_estatal',\n",
    "    'F. S. CREDITO UNIVERSITARIO':'credito_universitario',\n",
    "    'HIJO PROFESIONALES EDUCACION':'hijo_profesionales_educacion',\n",
    "    'PREMIO AL INGRESO DESTACADO':'premio_al_ingreso_destacado',\n",
    "\n",
    "}\n",
    "\n",
    "logger.info(\"definir rutas de trabajos\")\n",
    "\n",
    "path_data = '../data/'\n",
    "\n",
    "logger.info(\"leer datos\")\n",
    "df = pd.read_csv(path_data + 'estado_alumno_2010_2017_previo.csv',sep=',',encoding='Latin-1')"
   ]
  },
  {
   "cell_type": "code",
   "execution_count": 3,
   "id": "ca30ceb7",
   "metadata": {},
   "outputs": [
    {
     "name": "stderr",
     "output_type": "stream",
     "text": [
      "2024-03-27 21:03:49.135 | INFO     | __main__:<module>:1 - preprocesamiento\n"
     ]
    }
   ],
   "source": [
    "logger.info(\"preprocesamiento\")\n",
    "df = df[dct_cols.keys()].rename(columns = dct_cols)\n",
    "df= df.replace('Sin información',np.nan)\n",
    "\n",
    "\n",
    "# valores numericos\n",
    "\n",
    "cols_num = [\n",
    "    'nem',\n",
    "       'puntaje_ingreso', 'puntaje_psu', 'preferencia', 'psu_matematica',\n",
    "       'psu_lenguaje'\n",
    "]\n",
    "\n",
    "for col in cols_num:\n",
    "    df[col] = df[col].str.replace(',','.').astype(float)\n",
    "    \n",
    "    \n",
    "cols_porcentaje = [\n",
    "    'beca_bicentenario',\n",
    "       'beca_damnificados', 'beca_excelencia_academica', 'beca_informe_valech',\n",
    "       'beca_isabel_caces_de_brown', 'beca_juan_gomez_millas', 'beca_pucv',\n",
    "       'beneficio_gratuidad', 'credito_con_garantia_estatal',\n",
    "       'credito_universitario', 'hijo_profesionales_educacion',\n",
    "       'premio_al_ingreso_destacado'\n",
    "]\n",
    "\n",
    "for col in cols_porcentaje:\n",
    "    df[col] = df[col].str.replace('%','').str.strip().astype('int')\n",
    "    \n",
    "df.loc[lambda x: x.rut == 19667341,'estado'] = 'Desertor'"
   ]
  },
  {
   "cell_type": "code",
   "execution_count": 4,
   "id": "55070d1e",
   "metadata": {},
   "outputs": [],
   "source": [
    "df.to_csv(path_data + 'estado_alumno_2010_2017_previo_clean.csv',index=False,sep=',')"
   ]
  },
  {
   "cell_type": "markdown",
   "id": "d0617179",
   "metadata": {},
   "source": [
    "**estado_del_alumno_2018_1s**"
   ]
  },
  {
   "cell_type": "code",
   "execution_count": 5,
   "id": "df4919af",
   "metadata": {},
   "outputs": [
    {
     "name": "stderr",
     "output_type": "stream",
     "text": [
      "2024-03-27 21:03:49.195 | INFO     | __main__:<module>:1 - definir rutas de trabajos\n",
      "2024-03-27 21:03:49.196 | INFO     | __main__:<module>:5 - leer datos\n"
     ]
    },
    {
     "name": "stdout",
     "output_type": "stream",
     "text": [
      "695\n"
     ]
    }
   ],
   "source": [
    "logger.info(\"definir rutas de trabajos\")\n",
    "\n",
    "path_data = '../data/'\n",
    "\n",
    "logger.info(\"leer datos\")\n",
    "df = pd.read_csv(path_data + 'estado_del_alumno_2018_1s.csv',sep=',',encoding='Latin-1')\n",
    "\n",
    "print(len(np.unique(df['id'])))"
   ]
  },
  {
   "cell_type": "code",
   "execution_count": 6,
   "id": "87f108c2",
   "metadata": {
    "scrolled": true
   },
   "outputs": [
    {
     "name": "stderr",
     "output_type": "stream",
     "text": [
      "2024-03-27 21:03:49.244 | INFO     | __main__:<module>:1 - preprocesamiento\n"
     ]
    },
    {
     "data": {
      "text/html": [
       "<div>\n",
       "<style scoped>\n",
       "    .dataframe tbody tr th:only-of-type {\n",
       "        vertical-align: middle;\n",
       "    }\n",
       "\n",
       "    .dataframe tbody tr th {\n",
       "        vertical-align: top;\n",
       "    }\n",
       "\n",
       "    .dataframe thead th {\n",
       "        text-align: right;\n",
       "    }\n",
       "</style>\n",
       "<table border=\"1\" class=\"dataframe\">\n",
       "  <thead>\n",
       "    <tr style=\"text-align: right;\">\n",
       "      <th></th>\n",
       "      <th>rut</th>\n",
       "      <th>ingreso</th>\n",
       "      <th>estado</th>\n",
       "      <th>sigla</th>\n",
       "      <th>creditos</th>\n",
       "      <th>nivel_original</th>\n",
       "      <th>nivel_alumno</th>\n",
       "      <th>nota</th>\n",
       "      <th>oportunidad</th>\n",
       "      <th>aprueba</th>\n",
       "      <th>max_semestres</th>\n",
       "    </tr>\n",
       "  </thead>\n",
       "  <tbody>\n",
       "    <tr>\n",
       "      <th>121</th>\n",
       "      <td>16275905</td>\n",
       "      <td>2010</td>\n",
       "      <td>Desertor</td>\n",
       "      <td>FIS-326</td>\n",
       "      <td>3</td>\n",
       "      <td>4</td>\n",
       "      <td>-1</td>\n",
       "      <td>NaN</td>\n",
       "      <td>NaN</td>\n",
       "      <td>NaN</td>\n",
       "      <td>16</td>\n",
       "    </tr>\n",
       "    <tr>\n",
       "      <th>1654</th>\n",
       "      <td>16275905</td>\n",
       "      <td>2010</td>\n",
       "      <td>Desertor</td>\n",
       "      <td>ICC-252</td>\n",
       "      <td>3</td>\n",
       "      <td>4</td>\n",
       "      <td>-1</td>\n",
       "      <td>NaN</td>\n",
       "      <td>NaN</td>\n",
       "      <td>NaN</td>\n",
       "      <td>16</td>\n",
       "    </tr>\n",
       "    <tr>\n",
       "      <th>2387</th>\n",
       "      <td>16275905</td>\n",
       "      <td>2010</td>\n",
       "      <td>Desertor</td>\n",
       "      <td>ICC-347</td>\n",
       "      <td>3</td>\n",
       "      <td>5</td>\n",
       "      <td>-1</td>\n",
       "      <td>NaN</td>\n",
       "      <td>NaN</td>\n",
       "      <td>NaN</td>\n",
       "      <td>16</td>\n",
       "    </tr>\n",
       "    <tr>\n",
       "      <th>3798</th>\n",
       "      <td>16275905</td>\n",
       "      <td>2010</td>\n",
       "      <td>Desertor</td>\n",
       "      <td>ICC-245</td>\n",
       "      <td>2</td>\n",
       "      <td>3</td>\n",
       "      <td>-1</td>\n",
       "      <td>NaN</td>\n",
       "      <td>NaN</td>\n",
       "      <td>NaN</td>\n",
       "      <td>16</td>\n",
       "    </tr>\n",
       "    <tr>\n",
       "      <th>5444</th>\n",
       "      <td>16275905</td>\n",
       "      <td>2010</td>\n",
       "      <td>Desertor</td>\n",
       "      <td>ICC-240</td>\n",
       "      <td>2</td>\n",
       "      <td>3</td>\n",
       "      <td>-1</td>\n",
       "      <td>NaN</td>\n",
       "      <td>NaN</td>\n",
       "      <td>NaN</td>\n",
       "      <td>16</td>\n",
       "    </tr>\n",
       "  </tbody>\n",
       "</table>\n",
       "</div>"
      ],
      "text/plain": [
       "           rut  ingreso    estado    sigla  creditos  nivel_original  \\\n",
       "121   16275905     2010  Desertor  FIS-326         3               4   \n",
       "1654  16275905     2010  Desertor  ICC-252         3               4   \n",
       "2387  16275905     2010  Desertor  ICC-347         3               5   \n",
       "3798  16275905     2010  Desertor  ICC-245         2               3   \n",
       "5444  16275905     2010  Desertor  ICC-240         2               3   \n",
       "\n",
       "      nivel_alumno  nota  oportunidad aprueba  max_semestres  \n",
       "121             -1   NaN          NaN     NaN             16  \n",
       "1654            -1   NaN          NaN     NaN             16  \n",
       "2387            -1   NaN          NaN     NaN             16  \n",
       "3798            -1   NaN          NaN     NaN             16  \n",
       "5444            -1   NaN          NaN     NaN             16  "
      ]
     },
     "execution_count": 6,
     "metadata": {},
     "output_type": "execute_result"
    }
   ],
   "source": [
    "logger.info(\"preprocesamiento\")\n",
    "\n",
    "def estado_temporal(nivel_alumno,ultimo_nivel,estado):\n",
    "    if nivel_alumno!=ultimo_nivel:\n",
    "        return 'Matriculado'\n",
    "    else:\n",
    "        return estado\n",
    "\n",
    "dct_cols = {\n",
    "    'id':'rut',\n",
    "    'Cohorte de Ingreso':'ingreso',\n",
    "    'Estado a 1sem 2018':'estado',\n",
    "    'curso':'sigla',\n",
    "    'creditos':'creditos',\n",
    "    'nivel_original':'nivel_original',\n",
    "    'nivel':'nivel_alumno',\n",
    "    'nota':'nota',\n",
    "    'oportunidad':'oportunidad',\n",
    "    'aprueba':'aprueba',\n",
    "    \n",
    "}\n",
    "\n",
    "dct_ingreso = {\n",
    "    2010:16,\n",
    "    2011:14,\n",
    "    2012:12,\n",
    "    2013:10,\n",
    "    2014:8,\n",
    "    2015:6,\n",
    "    2016:4,\n",
    "    2017:2\n",
    "}\n",
    "\n",
    "df = df[dct_cols.keys()].rename(columns = dct_cols).sort_values(['ingreso','rut','nivel_alumno'])\n",
    "df['nota'] = df['nota'].str.replace(',','.').astype(float)\n",
    "df['max_semestres'] = df['ingreso'].apply(lambda x:dct_ingreso[x] )\n",
    "\n",
    "\n",
    "df.head()"
   ]
  },
  {
   "cell_type": "code",
   "execution_count": 7,
   "id": "7e4f2950",
   "metadata": {},
   "outputs": [],
   "source": [
    "\n",
    "ramos_primer_semestre = ['MAT-113', 'MAT-123', 'ICC-141']\n",
    "\n",
    "# caso 01: seleccionar alumnos que se van antes de finalizar el primer semestre\n",
    "\n",
    "valid_ruts = df.loc[lambda x: (x['nivel_alumno']!=-1)]['rut'].unique()\n",
    "\n",
    "df_01 = df.loc[lambda x: ~x.rut.isin(valid_ruts)].loc[lambda x: x.sigla.isin(ramos_primer_semestre)]\n",
    "invalid_ruts =list( df_01.rut.unique() )\n"
   ]
  },
  {
   "cell_type": "code",
   "execution_count": 8,
   "id": "37d2e5ec",
   "metadata": {},
   "outputs": [],
   "source": [
    "# caso 02: alumnos con convalidaciones\n",
    "\n",
    "conv_mayor_cohorte =  list(df.loc[lambda x: x['nivel_alumno']>x['max_semestres']].rut.unique())\n",
    "df_02 = df.loc[lambda x: (x['nivel_alumno']!=-1) & (x['rut'].isin(conv_mayor_cohorte))]\n",
    "df_02.loc[lambda x: x.nota>=1000,'nivel_alumno'] = 1"
   ]
  },
  {
   "cell_type": "code",
   "execution_count": 9,
   "id": "56ee2f02",
   "metadata": {},
   "outputs": [],
   "source": [
    "# caso 03: eliminar alumnos con convalidaciones \n",
    "\n",
    "not_valid_ruts = invalid_ruts + conv_mayor_cohorte\n",
    "\n",
    "df_valid  = df.loc[lambda x: ~x.rut.isin(not_valid_ruts)].loc[lambda x: x['nivel_alumno']!=-1]\n",
    "\n",
    "result = df_valid.loc[lambda x: (x.nivel_alumno==1)].groupby('rut')['sigla'].apply(list).reset_index()\n",
    "result['validacion'] = [sorted(row['sigla']) == sorted(ramos_primer_semestre) for index,row in result.iterrows()]\n",
    "\n",
    "ruts_no_validos = list(result.loc[lambda x: ~x['validacion']]['rut'].unique())\n",
    "\n",
    "df_no_valido = df_valid.loc[lambda x: (x.rut.isin(ruts_no_validos))]\n",
    "\n",
    "\n",
    "ruts_validos = result.loc[lambda x: x['validacion']]['rut'].unique()\n",
    "\n",
    "df_valido = df_valid.loc[lambda x: (x.rut.isin(ruts_validos))]\n",
    "df_valido.loc[lambda x: x['nota']>=1000,'nota'] = 4\n",
    "df_valido.loc[lambda x: x['nota']<1,'nota'] = 1\n",
    "df_valido.loc[lambda x: (x['nota']>=4) &(x['aprueba']=='REPRUEBA'),'nota'] = 3"
   ]
  },
  {
   "cell_type": "code",
   "execution_count": 10,
   "id": "c6629aab",
   "metadata": {},
   "outputs": [
    {
     "name": "stderr",
     "output_type": "stream",
     "text": [
      "2024-03-27 21:03:49.363 | INFO     | __main__:<module>:13 - ajustes finales\n"
     ]
    }
   ],
   "source": [
    "#df_valido.head()\n",
    "\n",
    "frames = [\n",
    "    df_01.assign(label = 'desercion_antes_1s'),\n",
    "    df_02.assign(label = 'convalidaciones_erradas'),\n",
    "    df_no_valido.assign(label = 'no_consistentes'),\n",
    "    df_valido.assign(label = 'validos'),\n",
    "]\n",
    "\n",
    "\n",
    "final_result = pd.concat(frames)\n",
    "\n",
    "logger.info(\"ajustes finales\")\n",
    "\n",
    "\n",
    "\n",
    "final_result = final_result.rename(columns = {'aprueba':'estado_aprobacion'})\n",
    "final_result['ultimo_nivel'] = df.groupby('rut')['nivel_alumno'].transform('max')\n",
    "final_result['estado_temporal'] = final_result.apply(lambda x: estado_temporal(x['nivel_alumno'],x['ultimo_nivel'],x['estado']), axis=1)"
   ]
  },
  {
   "cell_type": "code",
   "execution_count": 11,
   "id": "a5ee87d5",
   "metadata": {},
   "outputs": [
    {
     "name": "stdout",
     "output_type": "stream",
     "text": [
      "695\n"
     ]
    }
   ],
   "source": [
    "final_result.loc[lambda x: x.rut == 19667341,'estado'] = 'Desertor'\n",
    "\n",
    "print(len(final_result['rut'].unique()))\n",
    "final_result.to_csv(path_data + 'estado_del_alumno_2018_1s_clean.csv',index=False,sep=',')"
   ]
  },
  {
   "cell_type": "markdown",
   "id": "eec05c1e",
   "metadata": {},
   "source": [
    "**estado_del_alumno_2019_1s**"
   ]
  },
  {
   "cell_type": "code",
   "execution_count": 12,
   "id": "773d68b0",
   "metadata": {},
   "outputs": [
    {
     "name": "stderr",
     "output_type": "stream",
     "text": [
      "2024-03-27 21:03:49.576 | INFO     | __main__:<module>:1 - definir rutas de trabajos\n",
      "2024-03-27 21:03:49.577 | INFO     | __main__:<module>:25 - leer datos\n"
     ]
    },
    {
     "data": {
      "text/html": [
       "<div>\n",
       "<style scoped>\n",
       "    .dataframe tbody tr th:only-of-type {\n",
       "        vertical-align: middle;\n",
       "    }\n",
       "\n",
       "    .dataframe tbody tr th {\n",
       "        vertical-align: top;\n",
       "    }\n",
       "\n",
       "    .dataframe thead th {\n",
       "        text-align: right;\n",
       "    }\n",
       "</style>\n",
       "<table border=\"1\" class=\"dataframe\">\n",
       "  <thead>\n",
       "    <tr style=\"text-align: right;\">\n",
       "      <th></th>\n",
       "      <th>rut</th>\n",
       "      <th>cohorte</th>\n",
       "      <th>estado</th>\n",
       "      <th>sigla</th>\n",
       "      <th>creditos</th>\n",
       "      <th>nivel_original</th>\n",
       "      <th>nivel_alumno</th>\n",
       "      <th>nota</th>\n",
       "      <th>oportunidad</th>\n",
       "      <th>aprueba</th>\n",
       "      <th>ultimo_nivel</th>\n",
       "      <th>estado_temporal</th>\n",
       "    </tr>\n",
       "  </thead>\n",
       "  <tbody>\n",
       "    <tr>\n",
       "      <th>0</th>\n",
       "      <td>13230598</td>\n",
       "      <td>2016</td>\n",
       "      <td>Desertor</td>\n",
       "      <td>MAT-113</td>\n",
       "      <td>6</td>\n",
       "      <td>1</td>\n",
       "      <td>1</td>\n",
       "      <td>6.5</td>\n",
       "      <td>1</td>\n",
       "      <td>A</td>\n",
       "      <td>2</td>\n",
       "      <td>Matriculado</td>\n",
       "    </tr>\n",
       "    <tr>\n",
       "      <th>1</th>\n",
       "      <td>13230598</td>\n",
       "      <td>2016</td>\n",
       "      <td>Desertor</td>\n",
       "      <td>MAT-213</td>\n",
       "      <td>4</td>\n",
       "      <td>2</td>\n",
       "      <td>1</td>\n",
       "      <td>6.9</td>\n",
       "      <td>1</td>\n",
       "      <td>A</td>\n",
       "      <td>2</td>\n",
       "      <td>Matriculado</td>\n",
       "    </tr>\n",
       "    <tr>\n",
       "      <th>2</th>\n",
       "      <td>13230598</td>\n",
       "      <td>2016</td>\n",
       "      <td>Desertor</td>\n",
       "      <td>MAT-123</td>\n",
       "      <td>6</td>\n",
       "      <td>1</td>\n",
       "      <td>1</td>\n",
       "      <td>6.9</td>\n",
       "      <td>1</td>\n",
       "      <td>A</td>\n",
       "      <td>2</td>\n",
       "      <td>Matriculado</td>\n",
       "    </tr>\n",
       "    <tr>\n",
       "      <th>3</th>\n",
       "      <td>13230598</td>\n",
       "      <td>2016</td>\n",
       "      <td>Desertor</td>\n",
       "      <td>MAT-203</td>\n",
       "      <td>4</td>\n",
       "      <td>2</td>\n",
       "      <td>1</td>\n",
       "      <td>6.6</td>\n",
       "      <td>1</td>\n",
       "      <td>A</td>\n",
       "      <td>2</td>\n",
       "      <td>Matriculado</td>\n",
       "    </tr>\n",
       "    <tr>\n",
       "      <th>4</th>\n",
       "      <td>13230598</td>\n",
       "      <td>2016</td>\n",
       "      <td>Desertor</td>\n",
       "      <td>MAT-204</td>\n",
       "      <td>4</td>\n",
       "      <td>3</td>\n",
       "      <td>2</td>\n",
       "      <td>6.7</td>\n",
       "      <td>1</td>\n",
       "      <td>A</td>\n",
       "      <td>2</td>\n",
       "      <td>Desertor</td>\n",
       "    </tr>\n",
       "  </tbody>\n",
       "</table>\n",
       "</div>"
      ],
      "text/plain": [
       "        rut  cohorte    estado    sigla  creditos  nivel_original  \\\n",
       "0  13230598     2016  Desertor  MAT-113         6               1   \n",
       "1  13230598     2016  Desertor  MAT-213         4               2   \n",
       "2  13230598     2016  Desertor  MAT-123         6               1   \n",
       "3  13230598     2016  Desertor  MAT-203         4               2   \n",
       "4  13230598     2016  Desertor  MAT-204         4               3   \n",
       "\n",
       "   nivel_alumno  nota oportunidad aprueba  ultimo_nivel estado_temporal  \n",
       "0             1   6.5           1       A             2     Matriculado  \n",
       "1             1   6.9           1       A             2     Matriculado  \n",
       "2             1   6.9           1       A             2     Matriculado  \n",
       "3             1   6.6           1       A             2     Matriculado  \n",
       "4             2   6.7           1       A             2        Desertor  "
      ]
     },
     "execution_count": 12,
     "metadata": {},
     "output_type": "execute_result"
    }
   ],
   "source": [
    "logger.info(\"definir rutas de trabajos\")\n",
    "\n",
    "def estado_temporal(nivel_alumno,ultimo_nivel,estado):\n",
    "    if nivel_alumno!=ultimo_nivel:\n",
    "        return 'Matriculado'\n",
    "    else:\n",
    "        return estado\n",
    "    \n",
    "dct_cols = {\n",
    "    'Rut':'rut',\n",
    "    'Cohorte de ingreso':'cohorte',\n",
    "    'Estado 2019-1SEM':'estado',\n",
    "    'sigla':'sigla',\n",
    "    'Créditos':'creditos',\n",
    "    'Nivel Original':'nivel_original',\n",
    "    'Nivel alumno':'nivel_alumno',\n",
    "    'Nota':'nota',\n",
    "    'Oportunidad':'oportunidad',\n",
    "    'Estado aprobación':'aprueba',\n",
    "    \n",
    "}\n",
    "\n",
    "path_data = '../data/'\n",
    "\n",
    "logger.info(\"leer datos\")\n",
    "df = pd.read_csv(path_data + 'estado_del_alumno_2019_1s.csv',sep=',',encoding='Latin-1')\n",
    "df['sigla'] = df['Sigla'] + '-' + df['Número'].astype(str)\n",
    "\n",
    "\n",
    "df = df[dct_cols.keys()].rename(columns = dct_cols)#.sort_values(['cohorte','rut','nivel_alumno'])\n",
    "\n",
    "# agregar notas\n",
    "cols_nota = ['HOMOLOGACION', 'CONVALIDACION','HOMOLOGACION AUTOMATICA', 'HOMOLOGACION POR COD. DISTINTO']\n",
    "\n",
    "df.loc[lambda x: x['nota'].isin(cols_nota),\"nota\"] = \"4\"\n",
    "df.loc[lambda x: (x.nota=='-') & (x.aprueba=='R') ,\"nota\"] = '3'\n",
    "df.loc[lambda x: (x.nota=='-') & (x.aprueba=='A') ,\"nota\"] = '4'\n",
    "df['nota'] = df['nota'].str.replace(',','.').astype(float)\n",
    "df['nivel_alumno'] = df['nivel_alumno'].str.replace('-','0').astype(int)\n",
    "\n",
    "# agregar ultimo nivel\n",
    "df_un = df.groupby('rut')['nivel_alumno'].max().reset_index()\n",
    "df_un.columns = ['rut','ultimo_nivel']\n",
    "df_result = df.merge(df_un,on = 'rut',how='left')\n",
    "\n",
    "# estado temporal\n",
    "df_result['estado_temporal'] = df_result.apply(lambda x: estado_temporal(x['nivel_alumno'],x['ultimo_nivel'],x['estado']), axis=1)\n",
    "\n",
    "df_result.head()"
   ]
  },
  {
   "cell_type": "code",
   "execution_count": 13,
   "id": "cc3e882d",
   "metadata": {},
   "outputs": [
    {
     "name": "stdout",
     "output_type": "stream",
     "text": [
      "783\n"
     ]
    }
   ],
   "source": [
    "df_result.loc[lambda x: x.rut == 19667341,'estado'] = 'Desertor'\n",
    "\n",
    "\n",
    "print(len(df_result['rut'].unique()))\n",
    "df_result.to_csv(path_data + 'estado_del_alumno_2019_1s_clean.csv',index=False,sep=',')"
   ]
  }
 ],
 "metadata": {
  "kernelspec": {
   "display_name": "Python 3 (ipykernel)",
   "language": "python",
   "name": "python3"
  },
  "language_info": {
   "codemirror_mode": {
    "name": "ipython",
    "version": 3
   },
   "file_extension": ".py",
   "mimetype": "text/x-python",
   "name": "python",
   "nbconvert_exporter": "python",
   "pygments_lexer": "ipython3",
   "version": "3.8.10"
  },
  "nbTranslate": {
   "displayLangs": [
    "*"
   ],
   "hotkey": "alt-t",
   "langInMainMenu": true,
   "sourceLang": "en",
   "targetLang": "fr",
   "useGoogleTranslate": true
  }
 },
 "nbformat": 4,
 "nbformat_minor": 5
}
